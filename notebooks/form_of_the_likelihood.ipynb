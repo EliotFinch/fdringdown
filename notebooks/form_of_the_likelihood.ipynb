{
 "cells": [
  {
   "cell_type": "markdown",
   "metadata": {},
   "source": [
    "### Form of the likelihood\n",
    "\n",
    "As seen in the `generating_noise` notebook, both the real and imaginary part of the frequency domain noise, $\\tilde{n}(f) = \\tilde{n}_r(f) + i\\tilde{n}_i(f)$, follow a normal distribution with variance \n",
    "\n",
    "$$ \\langle \\tilde{n}_r^2(f) \\rangle = \\langle \\tilde{n}_i^2(f) \\rangle = \\frac{1}{4} S_n(f)T $$\n",
    "\n",
    "where $S_n(f)$ is the power spectral density of the noise, and $T$ is the length of the noise being considered. So, the probability of the real part of the noise having value $\\tilde{n}_r$ (in the frequency bin $f_i$) is\n",
    "\n",
    "$$ p(\\tilde{n}_r(f_i)) = \\frac{1}{\\sqrt{2\\pi \\frac{1}{4} S_n(f_i)T}} ~ \\mathrm{exp} \\left[ -\\frac{1}{2} \\frac{\\tilde{n}_r^2(f_i)}{\\frac{1}{4}S_n(f_i)T} \\right], $$\n",
    "\n",
    "and similarly for the imaginary part. The complex valued $\\tilde{n}(f)$ then follows a distribution\n",
    "\n",
    "$$ p(\\tilde{n}(f_i)) = p(\\tilde{n}_r(f_i))p(\\tilde{n}_i(f_i)) = \\frac{1}{2\\pi \\frac{1}{4} S_n(f_i)T} ~ \\mathrm{exp} \\left[ -\\frac{1}{2} \\frac{\\tilde{n}_r^2(f_i) + \\tilde{n}_i^2(f_i)}{\\frac{1}{4}S_n(f_i)T} \\right] = \\frac{1}{\\frac{1}{2}\\pi S_n(f_i)T} ~ \\mathrm{exp} \\left[ - \\frac{2 |\\tilde{n}(f_i)|^2 }{S_n(f_i)T} \\right]. $$\n",
    "\n",
    "Bringing the normalization inside the exponential, this can be written (with $\\tilde{n}(f_i) = \\tilde{n}_i$)\n",
    "\n",
    "$$ p(\\tilde{n}_i) = \\mathrm{exp} \\left[ - \\frac{2 |\\tilde{n}_i|^2 }{S_n(f_i)T} - \\ln \\left( \\frac{1}{2}\\pi S_n(f_i)T \\right) \\right]. $$\n",
    "\n",
    "This implies a likelihood function of the form (with the belief $d_i = h_i(\\theta) + n_i)$\n",
    "\n",
    "$$ \\mathcal{L}(d_i|\\theta) = \\mathrm{exp} \\left[ - \\frac{2 |\\tilde{d}_i - \\tilde{h}_i(\\theta)|^2 }{S_n(f_i)T} - \\ln \\left( \\frac{1}{2}\\pi S_n(f_i)T \\right) \\right]. $$\n",
    "\n",
    "Here, $\\vec{d} = \\{d_0,\\, d_1,\\, \\dots,\\, d_{K-1} \\}$ is our data, and $h_i(\\theta)$ is our model at time $t_i$ for some choice of parameters $\\theta$. The likelihood for all the data is the product of the likelihood for each data point:\n",
    "\n",
    "$$ \\mathcal{L}(\\vec{d}|\\theta) = \\prod_{i=0}^{K-1} \\mathcal{L}(d_i|\\theta), $$\n",
    "\n",
    "which with the exponential becomes a sum\n",
    "\n",
    "$$ \\mathcal{L}(\\vec{d}|\\theta) = \\mathrm{exp} \\sum_{i=0}^{K-1} \\left[ - \\frac{2 |\\tilde{d}_i - \\tilde{h}_i(\\theta)|^2 }{S_n(f_i)T} - \\ln \\left( \\frac{1}{2}\\pi S_n(f_i)T \\right) \\right]. $$\n",
    "\n",
    "This is nearly the same as the expression in https://arxiv.org/abs/1409.7215 apart from a factor of half outside the log. See also https://arxiv.org/abs/1809.02293, who don't have the factor of half outside the log, but have a different argument inside the log.\n",
    "\n",
    "It is also worth being careful about the normalization of the Fourier tranform. In continuous language we have\n",
    "\n",
    "$$ \\tilde{n}(f) = \\int_{-\\infty}^{\\infty} \\mathrm{d}t ~ n(t) ~ e^{-2\\pi ift}. $$\n",
    "\n",
    "When we discretize this becomes\n",
    "\n",
    "$$ \\tilde{n}_k = \\sum_{m=0}^{N-1} \\Delta t ~ n_m ~ e^{-2\\pi i \\frac{mk}{N}}, \\qquad k=0,\\,\\dots,\\,N-1 $$\n",
    "\n",
    "where $\\Delta t$ is the time resolution, and $N$ is the number of data points in the time $T$. Comparing with the NumPy FFT function, https://numpy.org/doc/stable/reference/routines.fft.html, if we use `norm = None` (the default), then all that is missing is the $\\Delta t$ factor, so we should multiply by this when performing the FFT."
   ]
  },
  {
   "cell_type": "markdown",
   "metadata": {},
   "source": [
    "## Verification\n",
    "\n",
    "Consider a white noise series $\\vec{n} = \\{n_0,\\, n_1,\\, \\dots,\\, x_{K-1} \\}$ with standard deviation $\\sigma$. This can be easily generated in the following way."
   ]
  },
  {
   "cell_type": "code",
   "execution_count": 1,
   "metadata": {},
   "outputs": [],
   "source": [
    "import numpy as np\n",
    "import matplotlib.pyplot as plt\n",
    "\n",
    "from scipy.signal import welch\n",
    "\n",
    "# Create example time and frequency arrays\n",
    "fs = 4096\n",
    "dt = 1/fs\n",
    "times = np.arange(-4096, 4096, dt)\n",
    "freqs = np.fft.rfftfreq(len(times), d=dt)\n",
    "\n",
    "# Number of data points in the series\n",
    "K = len(times)\n",
    "\n",
    "# Duration of the time array\n",
    "T = times[-1] - times[0] + dt\n",
    "\n",
    "# Standard deviation of the noise\n",
    "sigma = 5\n",
    "\n",
    "# Generate the noise series\n",
    "noise = np.random.normal(loc=0, scale=sigma, size=K)"
   ]
  },
  {
   "cell_type": "markdown",
   "metadata": {},
   "source": [
    "Our noise $\\vec{n}$ follows a normal distribution:\n",
    "\n",
    "$$ p(n_i) = \\frac{1}{\\sqrt{2\\pi \\sigma^2}} \\exp \\left(-\\frac{n_i^2}{2\\sigma^2} \\right). $$\n",
    "\n",
    "The probability of the generated noise instance (the likelihood) is given by the product of the probability for each data point:\n",
    "\n",
    "$$ p(\\vec{n}) = \\prod_{i=0}^{K-1} p(n_i) = \\exp \\sum_{i=0}^{K-1} \\left[ - \\frac{n_i^2}{2\\sigma^2} - \\frac{1}{2}\\ln(2\\pi \\sigma^2) \\right]. $$\n",
    "\n",
    "We can evaluate this for our data:"
   ]
  },
  {
   "cell_type": "code",
   "execution_count": 2,
   "metadata": {},
   "outputs": [
    {
     "name": "stdout",
     "output_type": "stream",
     "text": [
      "Log likelihood evaluated in the time domain = -101610432.35648708\n"
     ]
    }
   ],
   "source": [
    "td_log_likelihood = np.sum(-0.5*noise**2/sigma**2 - 0.5*np.log(2*np.pi*sigma**2))\n",
    "\n",
    "print('Log likelihood evaluated in the time domain =', td_log_likelihood)"
   ]
  },
  {
   "cell_type": "markdown",
   "metadata": {},
   "source": [
    "We can take our data to the frequency domain, then evaluate the likelihood again with our derived expression. "
   ]
  },
  {
   "cell_type": "code",
   "execution_count": 3,
   "metadata": {},
   "outputs": [
    {
     "name": "stdout",
     "output_type": "stream",
     "text": [
      "Log likelihood evaluated in the frequency domain = -101610439.13915597\n"
     ]
    }
   ],
   "source": [
    "# FFT into the frequency domain\n",
    "noise_f = dt*np.fft.rfft(noise)\n",
    "\n",
    "# Obtain the PSD value (equivalent to estimating from the Welch method, see below)\n",
    "psd = 2*np.mean(abs(noise_f)**2)/T\n",
    "\n",
    "# I think this is the correct relationship...\n",
    "psd_2 = 4*sigma**2/T\n",
    "\n",
    "# Evaluate the likelihood\n",
    "fd_log_likelihood = np.sum(-2*abs(noise_f)**2/(T*psd) - np.log(0.5*np.pi*T*psd))\n",
    "\n",
    "print('Log likelihood evaluated in the frequency domain =', fd_log_likelihood)"
   ]
  },
  {
   "cell_type": "code",
   "execution_count": 4,
   "metadata": {},
   "outputs": [
    {
     "data": {
      "text/plain": [
       "0.9999999332483065"
      ]
     },
     "execution_count": 4,
     "metadata": {},
     "output_type": "execute_result"
    }
   ],
   "source": [
    "td_log_likelihood/fd_log_likelihood"
   ]
  },
  {
   "cell_type": "code",
   "execution_count": 5,
   "metadata": {},
   "outputs": [
    {
     "data": {
      "text/plain": [
       "6.782668888568878"
      ]
     },
     "execution_count": 5,
     "metadata": {},
     "output_type": "execute_result"
    }
   ],
   "source": [
    "td_log_likelihood-fd_log_likelihood"
   ]
  },
  {
   "cell_type": "code",
   "execution_count": 6,
   "metadata": {},
   "outputs": [
    {
     "data": {
      "image/png": "[encoded data removed]",
      "text/plain": [
       "<Figure size 432x288 with 1 Axes>"
      ]
     },
     "metadata": {
      "needs_background": "light"
     },
     "output_type": "display_data"
    }
   ],
   "source": [
    "freqs_welch, psd_welch = welch(\n",
    "    noise, fs=fs, window=('tukey', 0.25), nperseg=4*fs, \n",
    "    noverlap=2*fs)\n",
    " \n",
    "plt.figure()\n",
    "plt.plot(freqs_welch, psd_welch)\n",
    "plt.axhline(psd, c='k')\n",
    "plt.axhline(psd_2, c='r', linestyle='--')\n",
    "plt.xlabel('Frequency [Hz]')\n",
    "plt.ylabel('PSD $[\\mathrm{Hz}^{-1}]$')\n",
    "plt.show()"
   ]
  }
 ],
 "metadata": {
  "kernelspec": {
   "display_name": "Python [conda env:ringdown]",
   "language": "python",
   "name": "conda-env-ringdown-py"
  },
  "language_info": {
   "codemirror_mode": {
    "name": "ipython",
    "version": 3
   },
   "file_extension": ".py",
   "mimetype": "text/x-python",
   "name": "python",
   "nbconvert_exporter": "python",
   "pygments_lexer": "ipython3",
   "version": "3.8.8"
  }
 },
 "nbformat": 4,
 "nbformat_minor": 4
}
